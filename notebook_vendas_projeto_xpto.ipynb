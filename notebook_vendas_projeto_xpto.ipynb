{
 "cells": [
  {
   "cell_type": "markdown",
   "id": "bd542bad",
   "metadata": {},
   "source": [
    "### 📦 Briefing do Projeto – Vendas XPTO\n",
    "\n",
    "#### 🧩 Cenário\n",
    "A empresa XPTO está em expansão e deseja modernizar suas decisões comerciais com base em dados.\n",
    "\n",
    "O departamento de vendas forneceu dois arquivos para a equipe de dados:\n",
    "- `base_vendas.csv`: com as vendas realizadas.\n",
    "- `aumento.csv`: com os percentuais de aumento dos produtos por categoria.\n",
    "\n",
    "#### 🎯 Objetivos do Projeto\n",
    "1. Aplicar os percentuais de acréscimo às vendas e criar uma nova coluna com o valor ajustado.\n",
    "2. Realizar um comparativo por categoria (antes e depois do acréscimo).\n",
    "3. Calcular a comissão de cada vendedor (2,5% sobre o total vendido).\n",
    "4. Gerar gráficos para apoiar a análise (barras comparativas e comissão).\n",
    "5. Organizar os dados e simular o envio dos resultados por e-mail.\n",
    "\n",
    "#### 🔍 Situação Problema\n",
    "\n",
    "A empresa XPTO forneceu dois arquivos CSV:\n",
    "\n",
    "- `base_vendas.csv`: registros das vendas realizadas.\n",
    "- `aumento.csv`: percentuais de aumento por categoria de produto.\n",
    "\n",
    "Sua missão:\n",
    "1. Aplicar os percentuais de aumento aos dados de venda.\n",
    "2. Calcular a comissão dos vendedores (2,5%).\n",
    "3. Realizar análises agregadas por categoria e por vendedor.\n",
    "4. Gerar gráficos comparativos.\n",
    "5. Responder o Desafio.\n",
    "\n",
    "\n",
    "#### 💡 O que se espera de você?\n",
    "- Que organize os dados de forma clara e limpa;\n",
    "- Aplique os cálculos e gere as visualizações corretamente;\n",
    "- Responda aos desafios e complete os blocos de código propostos.\n",
    "\n",
    "\n",
    "#### Esse projeto é um ótimo exemplo de como Python pode ser usado para automatizar análises comerciais reais. 😉\n",
    "---"
   ]
  },
  {
   "cell_type": "markdown",
   "id": "d178570d",
   "metadata": {},
   "source": [
    "### Etapa 1: Instalação de bibliotecas\n",
    "\n",
    "Execute o código abaixo para instalar a biblioteca `chardet` se necessário ou repita o processo para as demais bibliotecas."
   ]
  },
  {
   "cell_type": "code",
   "execution_count": null,
   "id": "0a38829e",
   "metadata": {},
   "outputs": [],
   "source": [
    "# !pip install chardet"
   ]
  },
  {
   "cell_type": "markdown",
   "id": "c9b4ea0c",
   "metadata": {},
   "source": [
    "### Etapa 2: Importação de bibliotecas\n",
    "\n",
    "**Exercício:** Execute o código abaixo para importar as bibliotecas que serão usadas neste notebook."
   ]
  },
  {
   "cell_type": "code",
   "execution_count": 1,
   "id": "c0d7975c",
   "metadata": {},
   "outputs": [],
   "source": [
    "import pandas as pd\n",
    "import numpy as np\n",
    "import chardet\n",
    "import matplotlib.pyplot as plt\n",
    "import seaborn as sns\n"
   ]
  },
  {
   "cell_type": "markdown",
   "id": "1c4e413b",
   "metadata": {},
   "source": [
    "### Etapa 3: Como descobrir encoding do arquivo CSV\n",
    "\n",
    "🚨 **Exercício:** Use a biblioteca `chardet` para descobrir o encoding do arquivo `base_vendas.csv` e `categorias_valores.csv`."
   ]
  },
  {
   "cell_type": "code",
   "execution_count": 2,
   "id": "a753ee2e",
   "metadata": {},
   "outputs": [
    {
     "name": "stdout",
     "output_type": "stream",
     "text": [
      "Encoding detectado: ISO-8859-1\n"
     ]
    }
   ],
   "source": [
    "rawdata = open('base_vendas.csv', 'rb').read()\n",
    "encoding = chardet.detect(rawdata)['encoding']\n",
    "print('Encoding detectado:', encoding)"
   ]
  },
  {
   "cell_type": "code",
   "execution_count": 3,
   "id": "2418d010",
   "metadata": {},
   "outputs": [
    {
     "name": "stdout",
     "output_type": "stream",
     "text": [
      "Encoding detectado: utf-8\n"
     ]
    }
   ],
   "source": [
    "rawdata = open('categorias_valores.csv', 'rb').read()\n",
    "encoding2 = chardet.detect(rawdata)['encoding']\n",
    "print('Encoding detectado:', encoding2)"
   ]
  },
  {
   "cell_type": "markdown",
   "id": "90d4cb6a",
   "metadata": {},
   "source": [
    "### ℹ️ Entendendo o que é *Encoding*\n",
    "\n",
    "Quando lemos arquivos `.csv`, precisamos informar ao Python **como os caracteres estão codificados** no arquivo. Essa codificação é chamada de **encoding**.\n",
    "\n",
    "📌 **Encoding** é o formato que traduz os textos em bytes para que possam ser armazenados em arquivos.\n",
    "\n",
    "Os encodings mais comuns são:\n",
    "\n",
    "- **UTF-8**: É o mais utilizado atualmente. Compatível com acentos, símbolos e idiomas diversos. É a codificação padrão na internet.\n",
    "- **ISO-8859-1** (ou Latin-1): Era muito usada em arquivos de sistemas antigos ou exportações do Excel em português. Também suporta acentos, mas com codificação diferente da UTF-8.\n",
    "\n",
    "⚠️ Se o encoding for informado errado, os dados podem aparecer com caracteres quebrados, como `Ã©` em vez de `é`.\n",
    "\n",
    "✅ Por isso usamos a biblioteca `chardet` para detectar automaticamente o encoding antes de carregar os dados com `pd.read_csv(...)`.\n",
    "\n",
    "Exemplo prático:\n",
    "```python\n",
    "df = pd.read_csv(\"base_vendas.csv\", encoding=\"ISO-8859-1\", sep=\";\")\n"
   ]
  },
  {
   "cell_type": "markdown",
   "id": "2eebff6c",
   "metadata": {},
   "source": [
    "### Etapa 3.1: Crie o dataframe com os arquivos csv.\n"
   ]
  },
  {
   "cell_type": "code",
   "execution_count": 4,
   "id": "9594bee8",
   "metadata": {},
   "outputs": [],
   "source": [
    "df_vendas = pd.read_csv('base_vendas.csv', encoding=\"ISO-8859-1\", sep=';')\n",
    "df_categorias = pd.read_csv('categorias_valores.csv', encoding='utf-8', sep=',')"
   ]
  },
  {
   "cell_type": "markdown",
   "id": "f3727fd5",
   "metadata": {},
   "source": [
    "### Etapa 4: Estrutura e Diagnóstico Inicial dos Dados (EDA)\n",
    "\n",
    "Antes de partirmos para a exploração gráfica, vamos entender a estrutura da base:"
   ]
  },
  {
   "cell_type": "code",
   "execution_count": 6,
   "id": "f531320d",
   "metadata": {},
   "outputs": [
    {
     "data": {
      "text/html": [
       "<div>\n",
       "<style scoped>\n",
       "    .dataframe tbody tr th:only-of-type {\n",
       "        vertical-align: middle;\n",
       "    }\n",
       "\n",
       "    .dataframe tbody tr th {\n",
       "        vertical-align: top;\n",
       "    }\n",
       "\n",
       "    .dataframe thead th {\n",
       "        text-align: right;\n",
       "    }\n",
       "</style>\n",
       "<table border=\"1\" class=\"dataframe\">\n",
       "  <thead>\n",
       "    <tr style=\"text-align: right;\">\n",
       "      <th></th>\n",
       "      <th>cod_produto</th>\n",
       "      <th>nome_produto</th>\n",
       "      <th>categoria_produto</th>\n",
       "      <th>segmento_produto</th>\n",
       "      <th>marca_produto</th>\n",
       "      <th>cod_vendedor</th>\n",
       "      <th>nome_vendedor</th>\n",
       "      <th>cod_loja</th>\n",
       "      <th>cidade_loja</th>\n",
       "      <th>estado_loja</th>\n",
       "      <th>data_venda</th>\n",
       "      <th>valor_venda</th>\n",
       "    </tr>\n",
       "  </thead>\n",
       "  <tbody>\n",
       "    <tr>\n",
       "      <th>0</th>\n",
       "      <td>SKU-0000001</td>\n",
       "      <td>LG K10 TV Power</td>\n",
       "      <td>Celulares</td>\n",
       "      <td>Corporativo</td>\n",
       "      <td>LG</td>\n",
       "      <td>1009</td>\n",
       "      <td>Ana Teixeira</td>\n",
       "      <td>SP8821</td>\n",
       "      <td>São Paulo</td>\n",
       "      <td>São Paulo</td>\n",
       "      <td>04/10/2012</td>\n",
       "      <td>679.0</td>\n",
       "    </tr>\n",
       "  </tbody>\n",
       "</table>\n",
       "</div>"
      ],
      "text/plain": [
       "   cod_produto     nome_produto categoria_produto segmento_produto  \\\n",
       "0  SKU-0000001  LG K10 TV Power         Celulares      Corporativo   \n",
       "\n",
       "  marca_produto  cod_vendedor nome_vendedor cod_loja cidade_loja estado_loja  \\\n",
       "0            LG          1009  Ana Teixeira   SP8821   São Paulo   São Paulo   \n",
       "\n",
       "   data_venda  valor_venda  \n",
       "0  04/10/2012        679.0  "
      ]
     },
     "execution_count": 6,
     "metadata": {},
     "output_type": "execute_result"
    }
   ],
   "source": [
    "# Veja as primeiras linhas do dataframe de vendas\n",
    "df_vendas.head(1) "
   ]
  },
  {
   "cell_type": "code",
   "execution_count": 7,
   "id": "492a05d9",
   "metadata": {},
   "outputs": [
    {
     "data": {
      "text/html": [
       "<div>\n",
       "<style scoped>\n",
       "    .dataframe tbody tr th:only-of-type {\n",
       "        vertical-align: middle;\n",
       "    }\n",
       "\n",
       "    .dataframe tbody tr th {\n",
       "        vertical-align: top;\n",
       "    }\n",
       "\n",
       "    .dataframe thead th {\n",
       "        text-align: right;\n",
       "    }\n",
       "</style>\n",
       "<table border=\"1\" class=\"dataframe\">\n",
       "  <thead>\n",
       "    <tr style=\"text-align: right;\">\n",
       "      <th></th>\n",
       "      <th>Categoria</th>\n",
       "      <th>Valor</th>\n",
       "    </tr>\n",
       "  </thead>\n",
       "  <tbody>\n",
       "    <tr>\n",
       "      <th>0</th>\n",
       "      <td>Celulares</td>\n",
       "      <td>1.20</td>\n",
       "    </tr>\n",
       "    <tr>\n",
       "      <th>1</th>\n",
       "      <td>Eletrodomésticos</td>\n",
       "      <td>1.15</td>\n",
       "    </tr>\n",
       "    <tr>\n",
       "      <th>2</th>\n",
       "      <td>Eletrônicos</td>\n",
       "      <td>1.23</td>\n",
       "    </tr>\n",
       "    <tr>\n",
       "      <th>3</th>\n",
       "      <td>Eletroportáteis</td>\n",
       "      <td>2.00</td>\n",
       "    </tr>\n",
       "  </tbody>\n",
       "</table>\n",
       "</div>"
      ],
      "text/plain": [
       "          Categoria  Valor\n",
       "0         Celulares   1.20\n",
       "1  Eletrodomésticos   1.15\n",
       "2       Eletrônicos   1.23\n",
       "3   Eletroportáteis   2.00"
      ]
     },
     "execution_count": 7,
     "metadata": {},
     "output_type": "execute_result"
    }
   ],
   "source": [
    "# Veja as primeiras linhas do dataframe de categorias\n",
    "df_categorias.head()"
   ]
  },
  {
   "cell_type": "code",
   "execution_count": 8,
   "id": "a0d78502",
   "metadata": {},
   "outputs": [
    {
     "data": {
      "text/plain": [
       "cod_produto           object\n",
       "nome_produto          object\n",
       "categoria_produto     object\n",
       "segmento_produto      object\n",
       "marca_produto         object\n",
       "cod_vendedor           int64\n",
       "nome_vendedor         object\n",
       "cod_loja              object\n",
       "cidade_loja           object\n",
       "estado_loja           object\n",
       "data_venda            object\n",
       "valor_venda          float64\n",
       "dtype: object"
      ]
     },
     "execution_count": 8,
     "metadata": {},
     "output_type": "execute_result"
    }
   ],
   "source": [
    "df_vendas.dtypes"
   ]
  },
  {
   "cell_type": "code",
   "execution_count": 9,
   "id": "64cb5e8d",
   "metadata": {},
   "outputs": [
    {
     "name": "stdout",
     "output_type": "stream",
     "text": [
      "<class 'pandas.core.frame.DataFrame'>\n",
      "RangeIndex: 457 entries, 0 to 456\n",
      "Data columns (total 12 columns):\n",
      " #   Column             Non-Null Count  Dtype  \n",
      "---  ------             --------------  -----  \n",
      " 0   cod_produto        457 non-null    object \n",
      " 1   nome_produto       457 non-null    object \n",
      " 2   categoria_produto  457 non-null    object \n",
      " 3   segmento_produto   457 non-null    object \n",
      " 4   marca_produto      457 non-null    object \n",
      " 5   cod_vendedor       457 non-null    int64  \n",
      " 6   nome_vendedor      457 non-null    object \n",
      " 7   cod_loja           457 non-null    object \n",
      " 8   cidade_loja        457 non-null    object \n",
      " 9   estado_loja        457 non-null    object \n",
      " 10  data_venda         457 non-null    object \n",
      " 11  valor_venda        457 non-null    float64\n",
      "dtypes: float64(1), int64(1), object(10)\n",
      "memory usage: 43.0+ KB\n"
     ]
    }
   ],
   "source": [
    "# Verifique os tipos de dados e colunas do dataframs de vendas\n",
    "df_vendas.info()"
   ]
  },
  {
   "cell_type": "code",
   "execution_count": 10,
   "id": "0e71d7b5",
   "metadata": {},
   "outputs": [
    {
     "name": "stdout",
     "output_type": "stream",
     "text": [
      "<class 'pandas.core.frame.DataFrame'>\n",
      "RangeIndex: 4 entries, 0 to 3\n",
      "Data columns (total 2 columns):\n",
      " #   Column     Non-Null Count  Dtype  \n",
      "---  ------     --------------  -----  \n",
      " 0   Categoria  4 non-null      object \n",
      " 1   Valor      4 non-null      float64\n",
      "dtypes: float64(1), object(1)\n",
      "memory usage: 196.0+ bytes\n"
     ]
    }
   ],
   "source": [
    "# Verifique os tipos de dados e colunas do dataframe de categorias\n",
    "df_categorias.info() "
   ]
  },
  {
   "cell_type": "code",
   "execution_count": 12,
   "id": "726d97f3",
   "metadata": {},
   "outputs": [
    {
     "data": {
      "text/plain": [
       "cod_produto          0\n",
       "nome_produto         0\n",
       "categoria_produto    0\n",
       "segmento_produto     0\n",
       "marca_produto        0\n",
       "cod_vendedor         0\n",
       "nome_vendedor        0\n",
       "cod_loja             0\n",
       "cidade_loja          0\n",
       "estado_loja          0\n",
       "data_venda           0\n",
       "valor_venda          0\n",
       "dtype: int64"
      ]
     },
     "execution_count": 12,
     "metadata": {},
     "output_type": "execute_result"
    }
   ],
   "source": [
    "# Verifique os valores nulos do dataframe de vendas.\n",
    "df_vendas.isnull().sum()"
   ]
  },
  {
   "cell_type": "code",
   "execution_count": 13,
   "id": "d5eca59f",
   "metadata": {},
   "outputs": [
    {
     "data": {
      "text/plain": [
       "Categoria    0\n",
       "Valor        0\n",
       "dtype: int64"
      ]
     },
     "execution_count": 13,
     "metadata": {},
     "output_type": "execute_result"
    }
   ],
   "source": [
    "# Verifique os valores nulos do dataframe de categorias\n",
    "df_categorias.isnull().sum() "
   ]
  },
  {
   "cell_type": "code",
   "execution_count": 20,
   "id": "2ec10092",
   "metadata": {},
   "outputs": [
    {
     "data": {
      "text/html": [
       "<div>\n",
       "<style scoped>\n",
       "    .dataframe tbody tr th:only-of-type {\n",
       "        vertical-align: middle;\n",
       "    }\n",
       "\n",
       "    .dataframe tbody tr th {\n",
       "        vertical-align: top;\n",
       "    }\n",
       "\n",
       "    .dataframe thead th {\n",
       "        text-align: right;\n",
       "    }\n",
       "</style>\n",
       "<table border=\"1\" class=\"dataframe\">\n",
       "  <thead>\n",
       "    <tr style=\"text-align: right;\">\n",
       "      <th></th>\n",
       "      <th>Categoria</th>\n",
       "    </tr>\n",
       "  </thead>\n",
       "  <tbody>\n",
       "    <tr>\n",
       "      <th>count</th>\n",
       "      <td>4</td>\n",
       "    </tr>\n",
       "    <tr>\n",
       "      <th>unique</th>\n",
       "      <td>4</td>\n",
       "    </tr>\n",
       "    <tr>\n",
       "      <th>top</th>\n",
       "      <td>Celulares</td>\n",
       "    </tr>\n",
       "    <tr>\n",
       "      <th>freq</th>\n",
       "      <td>1</td>\n",
       "    </tr>\n",
       "  </tbody>\n",
       "</table>\n",
       "</div>"
      ],
      "text/plain": [
       "        Categoria\n",
       "count           4\n",
       "unique          4\n",
       "top     Celulares\n",
       "freq            1"
      ]
     },
     "execution_count": 20,
     "metadata": {},
     "output_type": "execute_result"
    }
   ],
   "source": [
    "# Verifique a estatistica das colunas textuais do dataframe de categorias.\n",
    "df_categorias.describe(include=['object'])"
   ]
  },
  {
   "cell_type": "code",
   "execution_count": 21,
   "id": "3a51e726",
   "metadata": {},
   "outputs": [
    {
     "data": {
      "text/html": [
       "<div>\n",
       "<style scoped>\n",
       "    .dataframe tbody tr th:only-of-type {\n",
       "        vertical-align: middle;\n",
       "    }\n",
       "\n",
       "    .dataframe tbody tr th {\n",
       "        vertical-align: top;\n",
       "    }\n",
       "\n",
       "    .dataframe thead th {\n",
       "        text-align: right;\n",
       "    }\n",
       "</style>\n",
       "<table border=\"1\" class=\"dataframe\">\n",
       "  <thead>\n",
       "    <tr style=\"text-align: right;\">\n",
       "      <th></th>\n",
       "      <th>cod_produto</th>\n",
       "      <th>nome_produto</th>\n",
       "      <th>categoria_produto</th>\n",
       "      <th>segmento_produto</th>\n",
       "      <th>marca_produto</th>\n",
       "      <th>nome_vendedor</th>\n",
       "      <th>cod_loja</th>\n",
       "      <th>cidade_loja</th>\n",
       "      <th>estado_loja</th>\n",
       "      <th>data_venda</th>\n",
       "    </tr>\n",
       "  </thead>\n",
       "  <tbody>\n",
       "    <tr>\n",
       "      <th>count</th>\n",
       "      <td>457</td>\n",
       "      <td>457</td>\n",
       "      <td>457</td>\n",
       "      <td>457</td>\n",
       "      <td>457</td>\n",
       "      <td>457</td>\n",
       "      <td>457</td>\n",
       "      <td>457</td>\n",
       "      <td>457</td>\n",
       "      <td>457</td>\n",
       "    </tr>\n",
       "    <tr>\n",
       "      <th>unique</th>\n",
       "      <td>457</td>\n",
       "      <td>19</td>\n",
       "      <td>4</td>\n",
       "      <td>3</td>\n",
       "      <td>14</td>\n",
       "      <td>9</td>\n",
       "      <td>14</td>\n",
       "      <td>10</td>\n",
       "      <td>6</td>\n",
       "      <td>108</td>\n",
       "    </tr>\n",
       "    <tr>\n",
       "      <th>top</th>\n",
       "      <td>SKU-0000001</td>\n",
       "      <td>Geladeira Duplex</td>\n",
       "      <td>Eletrodomésticos</td>\n",
       "      <td>Doméstico</td>\n",
       "      <td>Brastemp</td>\n",
       "      <td>André Pereira</td>\n",
       "      <td>SP8822</td>\n",
       "      <td>São Paulo</td>\n",
       "      <td>São Paulo</td>\n",
       "      <td>02/12/2015</td>\n",
       "    </tr>\n",
       "    <tr>\n",
       "      <th>freq</th>\n",
       "      <td>1</td>\n",
       "      <td>110</td>\n",
       "      <td>226</td>\n",
       "      <td>405</td>\n",
       "      <td>94</td>\n",
       "      <td>84</td>\n",
       "      <td>98</td>\n",
       "      <td>205</td>\n",
       "      <td>214</td>\n",
       "      <td>16</td>\n",
       "    </tr>\n",
       "  </tbody>\n",
       "</table>\n",
       "</div>"
      ],
      "text/plain": [
       "        cod_produto      nome_produto categoria_produto segmento_produto  \\\n",
       "count           457               457               457              457   \n",
       "unique          457                19                 4                3   \n",
       "top     SKU-0000001  Geladeira Duplex  Eletrodomésticos        Doméstico   \n",
       "freq              1               110               226              405   \n",
       "\n",
       "       marca_produto  nome_vendedor cod_loja cidade_loja estado_loja  \\\n",
       "count            457            457      457         457         457   \n",
       "unique            14              9       14          10           6   \n",
       "top         Brastemp  André Pereira   SP8822   São Paulo   São Paulo   \n",
       "freq              94             84       98         205         214   \n",
       "\n",
       "        data_venda  \n",
       "count          457  \n",
       "unique         108  \n",
       "top     02/12/2015  \n",
       "freq            16  "
      ]
     },
     "execution_count": 21,
     "metadata": {},
     "output_type": "execute_result"
    }
   ],
   "source": [
    "# Verifique a estatistica das colunas textuais do dataframe de vendas.\n",
    "df_vendas.describe(include=['object'])"
   ]
  },
  {
   "cell_type": "code",
   "execution_count": 18,
   "id": "b163a506",
   "metadata": {},
   "outputs": [
    {
     "data": {
      "text/html": [
       "<div>\n",
       "<style scoped>\n",
       "    .dataframe tbody tr th:only-of-type {\n",
       "        vertical-align: middle;\n",
       "    }\n",
       "\n",
       "    .dataframe tbody tr th {\n",
       "        vertical-align: top;\n",
       "    }\n",
       "\n",
       "    .dataframe thead th {\n",
       "        text-align: right;\n",
       "    }\n",
       "</style>\n",
       "<table border=\"1\" class=\"dataframe\">\n",
       "  <thead>\n",
       "    <tr style=\"text-align: right;\">\n",
       "      <th></th>\n",
       "      <th>cod_vendedor</th>\n",
       "      <th>valor_venda</th>\n",
       "    </tr>\n",
       "  </thead>\n",
       "  <tbody>\n",
       "    <tr>\n",
       "      <th>count</th>\n",
       "      <td>457.000000</td>\n",
       "      <td>457.000000</td>\n",
       "    </tr>\n",
       "    <tr>\n",
       "      <th>mean</th>\n",
       "      <td>1004.091904</td>\n",
       "      <td>790.111838</td>\n",
       "    </tr>\n",
       "    <tr>\n",
       "      <th>std</th>\n",
       "      <td>2.456704</td>\n",
       "      <td>755.541075</td>\n",
       "    </tr>\n",
       "    <tr>\n",
       "      <th>min</th>\n",
       "      <td>1001.000000</td>\n",
       "      <td>12.000000</td>\n",
       "    </tr>\n",
       "    <tr>\n",
       "      <th>25%</th>\n",
       "      <td>1002.000000</td>\n",
       "      <td>167.000000</td>\n",
       "    </tr>\n",
       "    <tr>\n",
       "      <th>50%</th>\n",
       "      <td>1004.000000</td>\n",
       "      <td>671.000000</td>\n",
       "    </tr>\n",
       "    <tr>\n",
       "      <th>75%</th>\n",
       "      <td>1006.000000</td>\n",
       "      <td>1230.000000</td>\n",
       "    </tr>\n",
       "    <tr>\n",
       "      <th>max</th>\n",
       "      <td>1009.000000</td>\n",
       "      <td>3999.000000</td>\n",
       "    </tr>\n",
       "  </tbody>\n",
       "</table>\n",
       "</div>"
      ],
      "text/plain": [
       "       cod_vendedor  valor_venda\n",
       "count    457.000000   457.000000\n",
       "mean    1004.091904   790.111838\n",
       "std        2.456704   755.541075\n",
       "min     1001.000000    12.000000\n",
       "25%     1002.000000   167.000000\n",
       "50%     1004.000000   671.000000\n",
       "75%     1006.000000  1230.000000\n",
       "max     1009.000000  3999.000000"
      ]
     },
     "execution_count": 18,
     "metadata": {},
     "output_type": "execute_result"
    }
   ],
   "source": [
    "# Verifique a estatistica das colunas numéricas do dataframe de vendas.\n",
    "df_vendas.describe()  "
   ]
  },
  {
   "cell_type": "code",
   "execution_count": 19,
   "id": "76d4bdc3",
   "metadata": {},
   "outputs": [
    {
     "data": {
      "text/html": [
       "<div>\n",
       "<style scoped>\n",
       "    .dataframe tbody tr th:only-of-type {\n",
       "        vertical-align: middle;\n",
       "    }\n",
       "\n",
       "    .dataframe tbody tr th {\n",
       "        vertical-align: top;\n",
       "    }\n",
       "\n",
       "    .dataframe thead th {\n",
       "        text-align: right;\n",
       "    }\n",
       "</style>\n",
       "<table border=\"1\" class=\"dataframe\">\n",
       "  <thead>\n",
       "    <tr style=\"text-align: right;\">\n",
       "      <th></th>\n",
       "      <th>Valor</th>\n",
       "    </tr>\n",
       "  </thead>\n",
       "  <tbody>\n",
       "    <tr>\n",
       "      <th>count</th>\n",
       "      <td>4.000000</td>\n",
       "    </tr>\n",
       "    <tr>\n",
       "      <th>mean</th>\n",
       "      <td>1.395000</td>\n",
       "    </tr>\n",
       "    <tr>\n",
       "      <th>std</th>\n",
       "      <td>0.404681</td>\n",
       "    </tr>\n",
       "    <tr>\n",
       "      <th>min</th>\n",
       "      <td>1.150000</td>\n",
       "    </tr>\n",
       "    <tr>\n",
       "      <th>25%</th>\n",
       "      <td>1.187500</td>\n",
       "    </tr>\n",
       "    <tr>\n",
       "      <th>50%</th>\n",
       "      <td>1.215000</td>\n",
       "    </tr>\n",
       "    <tr>\n",
       "      <th>75%</th>\n",
       "      <td>1.422500</td>\n",
       "    </tr>\n",
       "    <tr>\n",
       "      <th>max</th>\n",
       "      <td>2.000000</td>\n",
       "    </tr>\n",
       "  </tbody>\n",
       "</table>\n",
       "</div>"
      ],
      "text/plain": [
       "          Valor\n",
       "count  4.000000\n",
       "mean   1.395000\n",
       "std    0.404681\n",
       "min    1.150000\n",
       "25%    1.187500\n",
       "50%    1.215000\n",
       "75%    1.422500\n",
       "max    2.000000"
      ]
     },
     "execution_count": 19,
     "metadata": {},
     "output_type": "execute_result"
    }
   ],
   "source": [
    "# Verifique a estatistica das colunas numéricas do dataframe de categorias.\n",
    "df_categorias.describe() "
   ]
  },
  {
   "cell_type": "code",
   "execution_count": 22,
   "id": "255ef4c7",
   "metadata": {},
   "outputs": [
    {
     "data": {
      "text/plain": [
       "array(['Celulares', 'Eletrodomésticos', 'Eletrônicos', 'Eletroportáteis'],\n",
       "      dtype=object)"
      ]
     },
     "execution_count": 22,
     "metadata": {},
     "output_type": "execute_result"
    }
   ],
   "source": [
    "# Verifique os valores únicos da coluna 'Categoria' do dataframe de categorias.\n",
    "df_categorias['Categoria'].unique()  "
   ]
  },
  {
   "cell_type": "code",
   "execution_count": 24,
   "id": "d1fc7437",
   "metadata": {},
   "outputs": [
    {
     "data": {
      "text/plain": [
       "array(['Celulares', 'Eletrodomésticos', 'Eletrônicos', 'Eletroportáteis'],\n",
       "      dtype=object)"
      ]
     },
     "execution_count": 24,
     "metadata": {},
     "output_type": "execute_result"
    }
   ],
   "source": [
    "# Verifique os valores únicos da coluna 'categoria_produto' do dataframe de vendas.\n",
    "df_vendas['categoria_produto'].unique()  "
   ]
  },
  {
   "cell_type": "code",
   "execution_count": 25,
   "id": "45f7f07b",
   "metadata": {},
   "outputs": [
    {
     "data": {
      "text/plain": [
       "array(['Ana Teixeira', 'Josias Silva', 'Mateus Gonçalves',\n",
       "       'Artur Moreira', 'Rodrigo Fagundes', 'Fernando Zambrini',\n",
       "       'André Pereira', 'Maria Fernandes', 'Aline Sutter'], dtype=object)"
      ]
     },
     "execution_count": 25,
     "metadata": {},
     "output_type": "execute_result"
    }
   ],
   "source": [
    "# Verifique os valores únicos da coluna 'nome_vendedor' do dataframe de vendas.\n",
    "df_vendas['nome_vendedor'].unique()"
   ]
  },
  {
   "cell_type": "code",
   "execution_count": 28,
   "id": "0ecc9974",
   "metadata": {},
   "outputs": [
    {
     "data": {
      "text/plain": [
       "categoria_produto\n",
       "Eletrodomésticos    226\n",
       "Eletroportáteis     124\n",
       "Eletrônicos          60\n",
       "Celulares            47\n",
       "Name: count, dtype: int64"
      ]
     },
     "execution_count": 28,
     "metadata": {},
     "output_type": "execute_result"
    }
   ],
   "source": [
    "# Verifique os valores únicos da coluna 'categoria_produto' do dataframe de vendas, fazendo a contagem nos resultados.\n",
    "df_vendas['categoria_produto'].value_counts() "
   ]
  },
  {
   "cell_type": "code",
   "execution_count": 29,
   "id": "7bcf6f08",
   "metadata": {},
   "outputs": [
    {
     "data": {
      "text/html": [
       "<div>\n",
       "<style scoped>\n",
       "    .dataframe tbody tr th:only-of-type {\n",
       "        vertical-align: middle;\n",
       "    }\n",
       "\n",
       "    .dataframe tbody tr th {\n",
       "        vertical-align: top;\n",
       "    }\n",
       "\n",
       "    .dataframe thead th {\n",
       "        text-align: right;\n",
       "    }\n",
       "</style>\n",
       "<table border=\"1\" class=\"dataframe\">\n",
       "  <thead>\n",
       "    <tr style=\"text-align: right;\">\n",
       "      <th></th>\n",
       "      <th>count</th>\n",
       "      <th>mean</th>\n",
       "      <th>std</th>\n",
       "      <th>min</th>\n",
       "      <th>25%</th>\n",
       "      <th>50%</th>\n",
       "      <th>75%</th>\n",
       "      <th>max</th>\n",
       "    </tr>\n",
       "    <tr>\n",
       "      <th>categoria_produto</th>\n",
       "      <th></th>\n",
       "      <th></th>\n",
       "      <th></th>\n",
       "      <th></th>\n",
       "      <th></th>\n",
       "      <th></th>\n",
       "      <th></th>\n",
       "      <th></th>\n",
       "    </tr>\n",
       "  </thead>\n",
       "  <tbody>\n",
       "    <tr>\n",
       "      <th>Celulares</th>\n",
       "      <td>47.0</td>\n",
       "      <td>2104.936170</td>\n",
       "      <td>1319.291747</td>\n",
       "      <td>679.0</td>\n",
       "      <td>1230.0</td>\n",
       "      <td>1230.00</td>\n",
       "      <td>3999.0000</td>\n",
       "      <td>3999.00</td>\n",
       "    </tr>\n",
       "    <tr>\n",
       "      <th>Eletrodomésticos</th>\n",
       "      <td>226.0</td>\n",
       "      <td>861.788097</td>\n",
       "      <td>417.850493</td>\n",
       "      <td>120.0</td>\n",
       "      <td>455.0</td>\n",
       "      <td>875.50</td>\n",
       "      <td>1234.1200</td>\n",
       "      <td>1899.00</td>\n",
       "    </tr>\n",
       "    <tr>\n",
       "      <th>Eletroportáteis</th>\n",
       "      <td>124.0</td>\n",
       "      <td>153.672984</td>\n",
       "      <td>82.246400</td>\n",
       "      <td>12.0</td>\n",
       "      <td>128.0</td>\n",
       "      <td>149.00</td>\n",
       "      <td>149.0000</td>\n",
       "      <td>765.45</td>\n",
       "    </tr>\n",
       "    <tr>\n",
       "      <th>Eletrônicos</th>\n",
       "      <td>60.0</td>\n",
       "      <td>805.492500</td>\n",
       "      <td>355.799299</td>\n",
       "      <td>234.0</td>\n",
       "      <td>456.0</td>\n",
       "      <td>739.17</td>\n",
       "      <td>1000.4925</td>\n",
       "      <td>1788.00</td>\n",
       "    </tr>\n",
       "  </tbody>\n",
       "</table>\n",
       "</div>"
      ],
      "text/plain": [
       "                   count         mean          std    min     25%      50%  \\\n",
       "categoria_produto                                                            \n",
       "Celulares           47.0  2104.936170  1319.291747  679.0  1230.0  1230.00   \n",
       "Eletrodomésticos   226.0   861.788097   417.850493  120.0   455.0   875.50   \n",
       "Eletroportáteis    124.0   153.672984    82.246400   12.0   128.0   149.00   \n",
       "Eletrônicos         60.0   805.492500   355.799299  234.0   456.0   739.17   \n",
       "\n",
       "                         75%      max  \n",
       "categoria_produto                      \n",
       "Celulares          3999.0000  3999.00  \n",
       "Eletrodomésticos   1234.1200  1899.00  \n",
       "Eletroportáteis     149.0000   765.45  \n",
       "Eletrônicos        1000.4925  1788.00  "
      ]
     },
     "execution_count": 29,
     "metadata": {},
     "output_type": "execute_result"
    }
   ],
   "source": [
    "# Verifique a estatística da categoria do produto por valor de venda.\n",
    "df_vendas.groupby('categoria_produto')['valor_venda'].describe() "
   ]
  },
  {
   "cell_type": "markdown",
   "id": "4985f79b",
   "metadata": {},
   "source": [
    "### Etapa 5: Análise Gráfica\n",
    "\n",
    "Agora sim, vamos explorar graficamente os dados!"
   ]
  },
  {
   "cell_type": "markdown",
   "id": "1d070aac",
   "metadata": {},
   "source": [
    "##### Plot um Histograma de Distribuição dos Valores de Venda"
   ]
  },
  {
   "cell_type": "code",
   "execution_count": 30,
   "id": "bfe99d65",
   "metadata": {},
   "outputs": [
    {
     "data": {
      "image/png": "[encoded data removed]",
      "text/plain": [
       "<Figure size 1000x500 with 1 Axes>"
      ]
     },
     "metadata": {},
     "output_type": "display_data"
    }
   ],
   "source": [
    "plt.figure(figsize=(10, 5))\n",
    "n, bins, patches = plt.hist(df_vendas['valor_venda'], bins=20, color='skyblue', edgecolor='black')\n",
    "\n",
    "plt.title('Distribuição dos Valores de Venda')\n",
    "plt.xlabel('Valor (R$)')\n",
    "plt.ylabel('Frequência')\n",
    "\n",
    "# Adicionando rótulos nas barras\n",
    "for i in range(len(patches)):\n",
    "    plt.text(patches[i].get_x() + patches[i].get_width()/2,\n",
    "             n[i] + 2,  # posição acima da barra\n",
    "             int(n[i]),\n",
    "             ha='center', fontsize=9)\n",
    "\n",
    "plt.tight_layout()\n",
    "plt.show()"
   ]
  },
  {
   "cell_type": "markdown",
   "id": "2ac2c709",
   "metadata": {},
   "source": [
    "##### Plot um Gráfico de barras por marca de produto\n"
   ]
  },
  {
   "cell_type": "code",
   "execution_count": 31,
   "id": "1d8ebdc8",
   "metadata": {},
   "outputs": [
    {
     "name": "stdout",
     "output_type": "stream",
     "text": [
      "marca_produto\n",
      "LG              679.00\n",
      "Sony            699.00\n",
      "Philco         1937.00\n",
      "Electrolux     6690.02\n",
      "Arno           6745.00\n",
      "Epson          7872.46\n",
      "Britânia      10373.45\n",
      "Dell          12823.54\n",
      "Panasonic     13573.00\n",
      "HP            27633.55\n",
      "Motorola      35670.00\n",
      "Consul        60686.79\n",
      "Samsung       76490.00\n",
      "Brastemp      99208.30\n",
      "Name: valor_venda, dtype: float64\n"
     ]
    }
   ],
   "source": [
    "df_marca = df_vendas.groupby('marca_produto')['valor_venda'].sum().sort_values()\n",
    "print(df_marca)"
   ]
  },
  {
   "cell_type": "code",
   "execution_count": 32,
   "id": "6339fa6c",
   "metadata": {},
   "outputs": [
    {
     "data": {
      "image/png": "[encoded data removed]",
      "text/plain": [
       "<Figure size 1000x500 with 1 Axes>"
      ]
     },
     "metadata": {},
     "output_type": "display_data"
    }
   ],
   "source": [
    "fig, ax = plt.subplots(figsize=(10, 5))\n",
    "barras = ax.bar(df_marca.index, df_marca.values, color='teal')\n",
    "ax.set_title('Total de Vendas por Marca')\n",
    "ax.set_xlabel('Marca')\n",
    "ax.set_ylabel('Valor Total (R$)')\n",
    "plt.xticks(rotation=45)\n",
    "\n",
    "# Rótulos\n",
    "for barra in barras:\n",
    "    altura = barra.get_height()\n",
    "    ax.text(barra.get_x() + barra.get_width()/2, altura + 1000,\n",
    "            f\"R$ {altura:,.0f}\", ha='center', fontsize=8)\n",
    "\n",
    "plt.tight_layout()\n",
    "plt.show()\n"
   ]
  },
  {
   "cell_type": "markdown",
   "id": "6d676105",
   "metadata": {},
   "source": [
    "##### Plot um Boxplot por categoria (para visualizar dispersão dos valores."
   ]
  },
  {
   "cell_type": "code",
   "execution_count": 33,
   "id": "5646be58",
   "metadata": {},
   "outputs": [
    {
     "name": "stderr",
     "output_type": "stream",
     "text": [
      "C:\\Users\\Nayar\\AppData\\Local\\Temp\\ipykernel_5756\\1817119360.py:2: FutureWarning: \n",
      "\n",
      "Passing `palette` without assigning `hue` is deprecated and will be removed in v0.14.0. Assign the `x` variable to `hue` and set `legend=False` for the same effect.\n",
      "\n",
      "  sns.boxplot(data=df_vendas, x='categoria_produto', y='valor_venda', palette='Set2')\n"
     ]
    },
    {
     "data": {
      "image/png": "[encoded data removed]",
      "text/plain": [
       "<Figure size 1000x500 with 1 Axes>"
      ]
     },
     "metadata": {},
     "output_type": "display_data"
    }
   ],
   "source": [
    "plt.figure(figsize=(10, 5))\n",
    "sns.boxplot(data=df_vendas, x='categoria_produto', y='valor_venda', palette='Set2')\n",
    "plt.title('Distribuição de Valores de Venda por Categoria')\n",
    "plt.xlabel('Categoria')\n",
    "plt.ylabel('Valor da Venda (R$)')\n",
    "plt.xticks(rotation=30)\n",
    "plt.tight_layout()\n",
    "plt.show()"
   ]
  },
  {
   "cell_type": "markdown",
   "id": "a593d003",
   "metadata": {},
   "source": [
    "### Etapa 6: Questões **DESAFIO**\n",
    "🚨 **Desafio 1:** Renomeie a coluna `valor` para `percentual_aumento` e una os dois DataFrames."
   ]
  },
  {
   "cell_type": "code",
   "execution_count": 39,
   "id": "1eb71331",
   "metadata": {},
   "outputs": [
    {
     "data": {
      "text/html": [
       "<div>\n",
       "<style scoped>\n",
       "    .dataframe tbody tr th:only-of-type {\n",
       "        vertical-align: middle;\n",
       "    }\n",
       "\n",
       "    .dataframe tbody tr th {\n",
       "        vertical-align: top;\n",
       "    }\n",
       "\n",
       "    .dataframe thead th {\n",
       "        text-align: right;\n",
       "    }\n",
       "</style>\n",
       "<table border=\"1\" class=\"dataframe\">\n",
       "  <thead>\n",
       "    <tr style=\"text-align: right;\">\n",
       "      <th></th>\n",
       "      <th>cod_produto</th>\n",
       "      <th>nome_produto</th>\n",
       "      <th>categoria_produto</th>\n",
       "      <th>segmento_produto</th>\n",
       "      <th>marca_produto</th>\n",
       "      <th>cod_vendedor</th>\n",
       "      <th>nome_vendedor</th>\n",
       "      <th>cod_loja</th>\n",
       "      <th>cidade_loja</th>\n",
       "      <th>estado_loja</th>\n",
       "      <th>data_venda</th>\n",
       "      <th>valor_venda</th>\n",
       "      <th>Categoria</th>\n",
       "      <th>percentual_aumento</th>\n",
       "    </tr>\n",
       "  </thead>\n",
       "  <tbody>\n",
       "    <tr>\n",
       "      <th>0</th>\n",
       "      <td>SKU-0000001</td>\n",
       "      <td>LG K10 TV Power</td>\n",
       "      <td>Celulares</td>\n",
       "      <td>Corporativo</td>\n",
       "      <td>LG</td>\n",
       "      <td>1009</td>\n",
       "      <td>Ana Teixeira</td>\n",
       "      <td>SP8821</td>\n",
       "      <td>São Paulo</td>\n",
       "      <td>São Paulo</td>\n",
       "      <td>04/10/2012</td>\n",
       "      <td>679.00</td>\n",
       "      <td>Celulares</td>\n",
       "      <td>1.20</td>\n",
       "    </tr>\n",
       "    <tr>\n",
       "      <th>1</th>\n",
       "      <td>SKU-0000002</td>\n",
       "      <td>Geladeira Duplex</td>\n",
       "      <td>Eletrodomésticos</td>\n",
       "      <td>Doméstico</td>\n",
       "      <td>Brastemp</td>\n",
       "      <td>1006</td>\n",
       "      <td>Josias Silva</td>\n",
       "      <td>SP8821</td>\n",
       "      <td>São Paulo</td>\n",
       "      <td>São Paulo</td>\n",
       "      <td>01/01/2012</td>\n",
       "      <td>832.00</td>\n",
       "      <td>Eletrodomésticos</td>\n",
       "      <td>1.15</td>\n",
       "    </tr>\n",
       "    <tr>\n",
       "      <th>2</th>\n",
       "      <td>SKU-0000003</td>\n",
       "      <td>Lavadora 11 Kg</td>\n",
       "      <td>Eletrodomésticos</td>\n",
       "      <td>Doméstico</td>\n",
       "      <td>Brastemp</td>\n",
       "      <td>1006</td>\n",
       "      <td>Josias Silva</td>\n",
       "      <td>SP8821</td>\n",
       "      <td>São Paulo</td>\n",
       "      <td>São Paulo</td>\n",
       "      <td>02/02/2012</td>\n",
       "      <td>790.00</td>\n",
       "      <td>Eletrodomésticos</td>\n",
       "      <td>1.15</td>\n",
       "    </tr>\n",
       "    <tr>\n",
       "      <th>3</th>\n",
       "      <td>SKU-0000004</td>\n",
       "      <td>Lavadora 11 Kg</td>\n",
       "      <td>Eletrodomésticos</td>\n",
       "      <td>Doméstico</td>\n",
       "      <td>Brastemp</td>\n",
       "      <td>1003</td>\n",
       "      <td>Mateus Gonçalves</td>\n",
       "      <td>SP8821</td>\n",
       "      <td>São Paulo</td>\n",
       "      <td>São Paulo</td>\n",
       "      <td>03/03/2012</td>\n",
       "      <td>765.32</td>\n",
       "      <td>Eletrodomésticos</td>\n",
       "      <td>1.15</td>\n",
       "    </tr>\n",
       "    <tr>\n",
       "      <th>4</th>\n",
       "      <td>SKU-0000005</td>\n",
       "      <td>Lavadora 11 Kg</td>\n",
       "      <td>Eletrodomésticos</td>\n",
       "      <td>Doméstico</td>\n",
       "      <td>Electrolux</td>\n",
       "      <td>1004</td>\n",
       "      <td>Artur Moreira</td>\n",
       "      <td>SP8821</td>\n",
       "      <td>São Paulo</td>\n",
       "      <td>São Paulo</td>\n",
       "      <td>04/04/2012</td>\n",
       "      <td>459.89</td>\n",
       "      <td>Eletrodomésticos</td>\n",
       "      <td>1.15</td>\n",
       "    </tr>\n",
       "  </tbody>\n",
       "</table>\n",
       "</div>"
      ],
      "text/plain": [
       "   cod_produto      nome_produto categoria_produto segmento_produto  \\\n",
       "0  SKU-0000001   LG K10 TV Power         Celulares      Corporativo   \n",
       "1  SKU-0000002  Geladeira Duplex  Eletrodomésticos        Doméstico   \n",
       "2  SKU-0000003    Lavadora 11 Kg  Eletrodomésticos        Doméstico   \n",
       "3  SKU-0000004    Lavadora 11 Kg  Eletrodomésticos        Doméstico   \n",
       "4  SKU-0000005    Lavadora 11 Kg  Eletrodomésticos        Doméstico   \n",
       "\n",
       "  marca_produto  cod_vendedor     nome_vendedor cod_loja cidade_loja  \\\n",
       "0            LG          1009      Ana Teixeira   SP8821   São Paulo   \n",
       "1      Brastemp          1006      Josias Silva   SP8821   São Paulo   \n",
       "2      Brastemp          1006      Josias Silva   SP8821   São Paulo   \n",
       "3      Brastemp          1003  Mateus Gonçalves   SP8821   São Paulo   \n",
       "4    Electrolux          1004     Artur Moreira   SP8821   São Paulo   \n",
       "\n",
       "  estado_loja  data_venda  valor_venda         Categoria  percentual_aumento  \n",
       "0   São Paulo  04/10/2012       679.00         Celulares                1.20  \n",
       "1   São Paulo  01/01/2012       832.00  Eletrodomésticos                1.15  \n",
       "2   São Paulo  02/02/2012       790.00  Eletrodomésticos                1.15  \n",
       "3   São Paulo  03/03/2012       765.32  Eletrodomésticos                1.15  \n",
       "4   São Paulo  04/04/2012       459.89  Eletrodomésticos                1.15  "
      ]
     },
     "execution_count": 39,
     "metadata": {},
     "output_type": "execute_result"
    }
   ],
   "source": [
    "df_categorias.rename(columns={'Valor': 'percentual_aumento'}, inplace=True)\n",
    "\n",
    "\n",
    "\n",
    "df_merge = df_vendas.merge(df_categorias, left_on=\"categoria_produto\", right_on=\"Categoria\", how=\"left\")\n",
    "df_merge.head()"
   ]
  },
  {
   "cell_type": "markdown",
   "id": "f96ad08d",
   "metadata": {},
   "source": [
    "🚨 **Desafio 2:** Crie uma nova coluna no resultado do ultimo dataframe criado chamada `venda_final` aplicando o percentual de aumento."
   ]
  },
  {
   "cell_type": "code",
   "execution_count": 40,
   "id": "394379e2",
   "metadata": {},
   "outputs": [
    {
     "data": {
      "text/html": [
       "<div>\n",
       "<style scoped>\n",
       "    .dataframe tbody tr th:only-of-type {\n",
       "        vertical-align: middle;\n",
       "    }\n",
       "\n",
       "    .dataframe tbody tr th {\n",
       "        vertical-align: top;\n",
       "    }\n",
       "\n",
       "    .dataframe thead th {\n",
       "        text-align: right;\n",
       "    }\n",
       "</style>\n",
       "<table border=\"1\" class=\"dataframe\">\n",
       "  <thead>\n",
       "    <tr style=\"text-align: right;\">\n",
       "      <th></th>\n",
       "      <th>cod_produto</th>\n",
       "      <th>nome_produto</th>\n",
       "      <th>categoria_produto</th>\n",
       "      <th>segmento_produto</th>\n",
       "      <th>marca_produto</th>\n",
       "      <th>cod_vendedor</th>\n",
       "      <th>nome_vendedor</th>\n",
       "      <th>cod_loja</th>\n",
       "      <th>cidade_loja</th>\n",
       "      <th>estado_loja</th>\n",
       "      <th>data_venda</th>\n",
       "      <th>valor_venda</th>\n",
       "      <th>Categoria</th>\n",
       "      <th>percentual_aumento</th>\n",
       "      <th>venda_final</th>\n",
       "    </tr>\n",
       "  </thead>\n",
       "  <tbody>\n",
       "    <tr>\n",
       "      <th>0</th>\n",
       "      <td>SKU-0000001</td>\n",
       "      <td>LG K10 TV Power</td>\n",
       "      <td>Celulares</td>\n",
       "      <td>Corporativo</td>\n",
       "      <td>LG</td>\n",
       "      <td>1009</td>\n",
       "      <td>Ana Teixeira</td>\n",
       "      <td>SP8821</td>\n",
       "      <td>São Paulo</td>\n",
       "      <td>São Paulo</td>\n",
       "      <td>04/10/2012</td>\n",
       "      <td>679.00</td>\n",
       "      <td>Celulares</td>\n",
       "      <td>1.20</td>\n",
       "      <td>687.148000</td>\n",
       "    </tr>\n",
       "    <tr>\n",
       "      <th>1</th>\n",
       "      <td>SKU-0000002</td>\n",
       "      <td>Geladeira Duplex</td>\n",
       "      <td>Eletrodomésticos</td>\n",
       "      <td>Doméstico</td>\n",
       "      <td>Brastemp</td>\n",
       "      <td>1006</td>\n",
       "      <td>Josias Silva</td>\n",
       "      <td>SP8821</td>\n",
       "      <td>São Paulo</td>\n",
       "      <td>São Paulo</td>\n",
       "      <td>01/01/2012</td>\n",
       "      <td>832.00</td>\n",
       "      <td>Eletrodomésticos</td>\n",
       "      <td>1.15</td>\n",
       "      <td>841.568000</td>\n",
       "    </tr>\n",
       "    <tr>\n",
       "      <th>2</th>\n",
       "      <td>SKU-0000003</td>\n",
       "      <td>Lavadora 11 Kg</td>\n",
       "      <td>Eletrodomésticos</td>\n",
       "      <td>Doméstico</td>\n",
       "      <td>Brastemp</td>\n",
       "      <td>1006</td>\n",
       "      <td>Josias Silva</td>\n",
       "      <td>SP8821</td>\n",
       "      <td>São Paulo</td>\n",
       "      <td>São Paulo</td>\n",
       "      <td>02/02/2012</td>\n",
       "      <td>790.00</td>\n",
       "      <td>Eletrodomésticos</td>\n",
       "      <td>1.15</td>\n",
       "      <td>799.085000</td>\n",
       "    </tr>\n",
       "    <tr>\n",
       "      <th>3</th>\n",
       "      <td>SKU-0000004</td>\n",
       "      <td>Lavadora 11 Kg</td>\n",
       "      <td>Eletrodomésticos</td>\n",
       "      <td>Doméstico</td>\n",
       "      <td>Brastemp</td>\n",
       "      <td>1003</td>\n",
       "      <td>Mateus Gonçalves</td>\n",
       "      <td>SP8821</td>\n",
       "      <td>São Paulo</td>\n",
       "      <td>São Paulo</td>\n",
       "      <td>03/03/2012</td>\n",
       "      <td>765.32</td>\n",
       "      <td>Eletrodomésticos</td>\n",
       "      <td>1.15</td>\n",
       "      <td>774.121180</td>\n",
       "    </tr>\n",
       "    <tr>\n",
       "      <th>4</th>\n",
       "      <td>SKU-0000005</td>\n",
       "      <td>Lavadora 11 Kg</td>\n",
       "      <td>Eletrodomésticos</td>\n",
       "      <td>Doméstico</td>\n",
       "      <td>Electrolux</td>\n",
       "      <td>1004</td>\n",
       "      <td>Artur Moreira</td>\n",
       "      <td>SP8821</td>\n",
       "      <td>São Paulo</td>\n",
       "      <td>São Paulo</td>\n",
       "      <td>04/04/2012</td>\n",
       "      <td>459.89</td>\n",
       "      <td>Eletrodomésticos</td>\n",
       "      <td>1.15</td>\n",
       "      <td>465.178735</td>\n",
       "    </tr>\n",
       "  </tbody>\n",
       "</table>\n",
       "</div>"
      ],
      "text/plain": [
       "   cod_produto      nome_produto categoria_produto segmento_produto  \\\n",
       "0  SKU-0000001   LG K10 TV Power         Celulares      Corporativo   \n",
       "1  SKU-0000002  Geladeira Duplex  Eletrodomésticos        Doméstico   \n",
       "2  SKU-0000003    Lavadora 11 Kg  Eletrodomésticos        Doméstico   \n",
       "3  SKU-0000004    Lavadora 11 Kg  Eletrodomésticos        Doméstico   \n",
       "4  SKU-0000005    Lavadora 11 Kg  Eletrodomésticos        Doméstico   \n",
       "\n",
       "  marca_produto  cod_vendedor     nome_vendedor cod_loja cidade_loja  \\\n",
       "0            LG          1009      Ana Teixeira   SP8821   São Paulo   \n",
       "1      Brastemp          1006      Josias Silva   SP8821   São Paulo   \n",
       "2      Brastemp          1006      Josias Silva   SP8821   São Paulo   \n",
       "3      Brastemp          1003  Mateus Gonçalves   SP8821   São Paulo   \n",
       "4    Electrolux          1004     Artur Moreira   SP8821   São Paulo   \n",
       "\n",
       "  estado_loja  data_venda  valor_venda         Categoria  percentual_aumento  \\\n",
       "0   São Paulo  04/10/2012       679.00         Celulares                1.20   \n",
       "1   São Paulo  01/01/2012       832.00  Eletrodomésticos                1.15   \n",
       "2   São Paulo  02/02/2012       790.00  Eletrodomésticos                1.15   \n",
       "3   São Paulo  03/03/2012       765.32  Eletrodomésticos                1.15   \n",
       "4   São Paulo  04/04/2012       459.89  Eletrodomésticos                1.15   \n",
       "\n",
       "   venda_final  \n",
       "0   687.148000  \n",
       "1   841.568000  \n",
       "2   799.085000  \n",
       "3   774.121180  \n",
       "4   465.178735  "
      ]
     },
     "execution_count": 40,
     "metadata": {},
     "output_type": "execute_result"
    }
   ],
   "source": [
    "df_merge['venda_final'] = df_merge['valor_venda'] * (1 + df_merge['percentual_aumento'] / 100)\n",
    "df_merge.head()"
   ]
  },
  {
   "cell_type": "markdown",
   "id": "73efd7a5",
   "metadata": {},
   "source": [
    "🚨 **Desafio 3:** Faça uma visualização agrupado por `categoria` e gerado um gráfico comparando os valores originais e com aumento."
   ]
  },
  {
   "cell_type": "code",
   "execution_count": 41,
   "id": "33fe8514",
   "metadata": {},
   "outputs": [
    {
     "data": {
      "image/png": "[encoded data removed]",
      "text/plain": [
       "<Figure size 1000x500 with 1 Axes>"
      ]
     },
     "metadata": {},
     "output_type": "display_data"
    }
   ],
   "source": [
    "# Agrupando os dados\n",
    "df_categoria = df_merge.groupby('categoria_produto')[['valor_venda', 'venda_final']].sum().reset_index()\n",
    "\n",
    "# Parâmetros do gráfico\n",
    "x = np.arange(len(df_categoria))\n",
    "largura_barra = 0.35\n",
    "\n",
    "fig, ax = plt.subplots(figsize=(10, 5))\n",
    "\n",
    "# Barras lado a lado\n",
    "barras1 = ax.bar(x - largura_barra/2, df_categoria['valor_venda'], width=largura_barra, label='Valor Original', color='steelblue')\n",
    "barras2 = ax.bar(x + largura_barra/2, df_categoria['venda_final'], width=largura_barra, label='Com Aumento', color='darkorange')\n",
    "\n",
    "# Títulos e eixos\n",
    "ax.set_title('Comparativo de Vendas por Categoria', fontsize=14)\n",
    "ax.set_xlabel('Categoria')\n",
    "ax.set_ylabel('Valor em R$')\n",
    "ax.set_xticks(x)\n",
    "ax.set_xticklabels(df_categoria['categoria_produto'], rotation=30)\n",
    "ax.legend()\n",
    "\n",
    "# Adicionando rótulos nas barras\n",
    "for barra in barras1:\n",
    "    altura = barra.get_height()\n",
    "    ax.text(barra.get_x() + barra.get_width()/2, altura + 2000, f'{altura:,.0f}', ha='center', fontsize=8, color='black')\n",
    "\n",
    "for barra in barras2:\n",
    "    altura = barra.get_height()\n",
    "    ax.text(barra.get_x() + barra.get_width()/2, altura + 2000, f'{altura:,.0f}', ha='center', fontsize=8, color='black')\n",
    "\n",
    "plt.tight_layout()\n",
    "plt.show()\n"
   ]
  },
  {
   "cell_type": "markdown",
   "id": "aaf48ddc",
   "metadata": {},
   "source": [
    "🚨 **Desafio 4:** Faça uma análise Calculando a comissão de 2,5% para cada vendedor."
   ]
  },
  {
   "cell_type": "code",
   "execution_count": 43,
   "id": "48943d5b",
   "metadata": {},
   "outputs": [
    {
     "data": {
      "text/html": [
       "<div>\n",
       "<style scoped>\n",
       "    .dataframe tbody tr th:only-of-type {\n",
       "        vertical-align: middle;\n",
       "    }\n",
       "\n",
       "    .dataframe tbody tr th {\n",
       "        vertical-align: top;\n",
       "    }\n",
       "\n",
       "    .dataframe thead th {\n",
       "        text-align: right;\n",
       "    }\n",
       "</style>\n",
       "<table border=\"1\" class=\"dataframe\">\n",
       "  <thead>\n",
       "    <tr style=\"text-align: right;\">\n",
       "      <th></th>\n",
       "      <th>nome_vendedor</th>\n",
       "      <th>valor_venda</th>\n",
       "    </tr>\n",
       "  </thead>\n",
       "  <tbody>\n",
       "    <tr>\n",
       "      <th>0</th>\n",
       "      <td>Aline Sutter</td>\n",
       "      <td>6051.99</td>\n",
       "    </tr>\n",
       "    <tr>\n",
       "      <th>1</th>\n",
       "      <td>Ana Teixeira</td>\n",
       "      <td>29221.12</td>\n",
       "    </tr>\n",
       "    <tr>\n",
       "      <th>2</th>\n",
       "      <td>André Pereira</td>\n",
       "      <td>87964.89</td>\n",
       "    </tr>\n",
       "    <tr>\n",
       "      <th>3</th>\n",
       "      <td>Artur Moreira</td>\n",
       "      <td>49944.79</td>\n",
       "    </tr>\n",
       "    <tr>\n",
       "      <th>4</th>\n",
       "      <td>Fernando Zambrini</td>\n",
       "      <td>21225.64</td>\n",
       "    </tr>\n",
       "    <tr>\n",
       "      <th>5</th>\n",
       "      <td>Josias Silva</td>\n",
       "      <td>50544.17</td>\n",
       "    </tr>\n",
       "    <tr>\n",
       "      <th>6</th>\n",
       "      <td>Maria Fernandes</td>\n",
       "      <td>55997.66</td>\n",
       "    </tr>\n",
       "    <tr>\n",
       "      <th>7</th>\n",
       "      <td>Mateus Gonçalves</td>\n",
       "      <td>36353.69</td>\n",
       "    </tr>\n",
       "    <tr>\n",
       "      <th>8</th>\n",
       "      <td>Rodrigo Fagundes</td>\n",
       "      <td>23777.16</td>\n",
       "    </tr>\n",
       "  </tbody>\n",
       "</table>\n",
       "</div>"
      ],
      "text/plain": [
       "       nome_vendedor  valor_venda\n",
       "0       Aline Sutter      6051.99\n",
       "1       Ana Teixeira     29221.12\n",
       "2      André Pereira     87964.89\n",
       "3      Artur Moreira     49944.79\n",
       "4  Fernando Zambrini     21225.64\n",
       "5       Josias Silva     50544.17\n",
       "6    Maria Fernandes     55997.66\n",
       "7   Mateus Gonçalves     36353.69\n",
       "8   Rodrigo Fagundes     23777.16"
      ]
     },
     "execution_count": 43,
     "metadata": {},
     "output_type": "execute_result"
    }
   ],
   "source": [
    "# Agrupar por nome do vendedor e somar as vendas\n",
    "df_vendedor = df_merge.groupby('nome_vendedor')[['valor_venda']].sum().reset_index()\n",
    "df_vendedor"
   ]
  },
  {
   "cell_type": "code",
   "execution_count": 44,
   "id": "a21bf3ba",
   "metadata": {},
   "outputs": [
    {
     "data": {
      "text/html": [
       "<div>\n",
       "<style scoped>\n",
       "    .dataframe tbody tr th:only-of-type {\n",
       "        vertical-align: middle;\n",
       "    }\n",
       "\n",
       "    .dataframe tbody tr th {\n",
       "        vertical-align: top;\n",
       "    }\n",
       "\n",
       "    .dataframe thead th {\n",
       "        text-align: right;\n",
       "    }\n",
       "</style>\n",
       "<table border=\"1\" class=\"dataframe\">\n",
       "  <thead>\n",
       "    <tr style=\"text-align: right;\">\n",
       "      <th></th>\n",
       "      <th>nome_vendedor</th>\n",
       "      <th>valor_venda</th>\n",
       "      <th>comissao</th>\n",
       "    </tr>\n",
       "  </thead>\n",
       "  <tbody>\n",
       "    <tr>\n",
       "      <th>0</th>\n",
       "      <td>Aline Sutter</td>\n",
       "      <td>6051.99</td>\n",
       "      <td>151.29975</td>\n",
       "    </tr>\n",
       "    <tr>\n",
       "      <th>1</th>\n",
       "      <td>Ana Teixeira</td>\n",
       "      <td>29221.12</td>\n",
       "      <td>730.52800</td>\n",
       "    </tr>\n",
       "    <tr>\n",
       "      <th>2</th>\n",
       "      <td>André Pereira</td>\n",
       "      <td>87964.89</td>\n",
       "      <td>2199.12225</td>\n",
       "    </tr>\n",
       "    <tr>\n",
       "      <th>3</th>\n",
       "      <td>Artur Moreira</td>\n",
       "      <td>49944.79</td>\n",
       "      <td>1248.61975</td>\n",
       "    </tr>\n",
       "    <tr>\n",
       "      <th>4</th>\n",
       "      <td>Fernando Zambrini</td>\n",
       "      <td>21225.64</td>\n",
       "      <td>530.64100</td>\n",
       "    </tr>\n",
       "    <tr>\n",
       "      <th>5</th>\n",
       "      <td>Josias Silva</td>\n",
       "      <td>50544.17</td>\n",
       "      <td>1263.60425</td>\n",
       "    </tr>\n",
       "    <tr>\n",
       "      <th>6</th>\n",
       "      <td>Maria Fernandes</td>\n",
       "      <td>55997.66</td>\n",
       "      <td>1399.94150</td>\n",
       "    </tr>\n",
       "    <tr>\n",
       "      <th>7</th>\n",
       "      <td>Mateus Gonçalves</td>\n",
       "      <td>36353.69</td>\n",
       "      <td>908.84225</td>\n",
       "    </tr>\n",
       "    <tr>\n",
       "      <th>8</th>\n",
       "      <td>Rodrigo Fagundes</td>\n",
       "      <td>23777.16</td>\n",
       "      <td>594.42900</td>\n",
       "    </tr>\n",
       "  </tbody>\n",
       "</table>\n",
       "</div>"
      ],
      "text/plain": [
       "       nome_vendedor  valor_venda    comissao\n",
       "0       Aline Sutter      6051.99   151.29975\n",
       "1       Ana Teixeira     29221.12   730.52800\n",
       "2      André Pereira     87964.89  2199.12225\n",
       "3      Artur Moreira     49944.79  1248.61975\n",
       "4  Fernando Zambrini     21225.64   530.64100\n",
       "5       Josias Silva     50544.17  1263.60425\n",
       "6    Maria Fernandes     55997.66  1399.94150\n",
       "7   Mateus Gonçalves     36353.69   908.84225\n",
       "8   Rodrigo Fagundes     23777.16   594.42900"
      ]
     },
     "execution_count": 44,
     "metadata": {},
     "output_type": "execute_result"
    }
   ],
   "source": [
    "# Agrupar por nome do vendedor e somar as vendas\n",
    "df_vendedor = df_merge.groupby('nome_vendedor')[['valor_venda']].sum().reset_index()\n",
    "\n",
    "# Calcular comissão de 2,5%\n",
    "df_vendedor['comissao'] = df_vendedor['valor_venda'] * 0.025\n",
    "\n",
    "# Exibir resultado\n",
    "df_vendedor\n"
   ]
  },
  {
   "cell_type": "markdown",
   "id": "e3b9af1e",
   "metadata": {},
   "source": [
    "🚨 **Desafio 5** Gere um gráfico com a comissão dos vendedores, calculados no desafio anterior."
   ]
  },
  {
   "cell_type": "code",
   "execution_count": 45,
   "id": "5c4eb3dc",
   "metadata": {},
   "outputs": [
    {
     "name": "stderr",
     "output_type": "stream",
     "text": [
      "C:\\Users\\Nayar\\AppData\\Local\\Temp\\ipykernel_5756\\1146861191.py:6: MatplotlibDeprecationWarning: The get_cmap function was deprecated in Matplotlib 3.7 and will be removed in 3.11. Use ``matplotlib.colormaps[name]`` or ``matplotlib.colormaps.get_cmap()`` or ``pyplot.get_cmap()`` instead.\n",
      "  cmap = plt.cm.get_cmap('YlOrRd')  # ou 'viridis', 'coolwarm', etc.\n",
      "C:\\Users\\Nayar\\AppData\\Local\\Temp\\ipykernel_5756\\1146861191.py:30: UserWarning: Glyph 128188 (\\N{BRIEFCASE}) missing from font(s) DejaVu Sans.\n",
      "  plt.tight_layout()\n",
      "c:\\Users\\Nayar\\miniconda3\\envs\\digital\\Lib\\site-packages\\IPython\\core\\pylabtools.py:170: UserWarning: Glyph 128188 (\\N{BRIEFCASE}) missing from font(s) DejaVu Sans.\n",
      "  fig.canvas.print_figure(bytes_io, **kw)\n"
     ]
    },
    {
     "data": {
      "image/png": "[encoded data removed]",
      "text/plain": [
       "<Figure size 1200x600 with 1 Axes>"
      ]
     },
     "metadata": {},
     "output_type": "display_data"
    }
   ],
   "source": [
    "# Ordena os dados\n",
    "df_vendedor_ordenado = df_vendedor.sort_values(by='comissao', ascending=False)\n",
    "\n",
    "# Cria um mapa de cores com base na comissão\n",
    "norm = plt.Normalize(df_vendedor_ordenado['comissao'].min(), df_vendedor_ordenado['comissao'].max())\n",
    "cmap = plt.cm.get_cmap('YlOrRd')  # ou 'viridis', 'coolwarm', etc.\n",
    "colors = cmap(norm(df_vendedor_ordenado['comissao'].values))\n",
    "\n",
    "# Gráfico\n",
    "fig, ax = plt.subplots(figsize=(12, 6))\n",
    "barras = ax.bar(df_vendedor_ordenado['nome_vendedor'], df_vendedor_ordenado['comissao'], color=colors)\n",
    "\n",
    "# Títulos e eixos\n",
    "ax.set_title('💼 Comissão por Vendedor (2,5%)', fontsize=16, pad=20)\n",
    "ax.set_ylabel('Comissão (R$)', fontsize=12)\n",
    "ax.set_xlabel('')\n",
    "ax.set_ylim(0, df_vendedor_ordenado['comissao'].max() + 500)\n",
    "plt.xticks(rotation=30, ha='right', fontsize=10)\n",
    "\n",
    "# Rótulos nas barras\n",
    "for barra in barras:\n",
    "    altura = barra.get_height()\n",
    "    ax.text(barra.get_x() + barra.get_width()/2, altura + 50,\n",
    "            f\"R$ {altura:,.2f}\", ha='center', fontsize=9, color='black')\n",
    "\n",
    "# Grid leve\n",
    "ax.yaxis.grid(True, linestyle='--', alpha=0.3)\n",
    "ax.set_axisbelow(True)\n",
    "\n",
    "plt.tight_layout()\n",
    "plt.show()\n"
   ]
  },
  {
   "cell_type": "markdown",
   "id": "93620389",
   "metadata": {},
   "source": [
    "🚨 **Desafio 6:** Transforme a coluna `data_venda` em formato de data e crie uma nova coluna `ano` com o ano da venda."
   ]
  },
  {
   "cell_type": "code",
   "execution_count": 46,
   "id": "0b785b61",
   "metadata": {},
   "outputs": [],
   "source": [
    "df_merge['data_venda'] = pd.to_datetime(df_merge['data_venda'], format='%d/%m/%Y')"
   ]
  },
  {
   "cell_type": "code",
   "execution_count": 47,
   "id": "cb4c4f1a",
   "metadata": {},
   "outputs": [
    {
     "data": {
      "text/html": [
       "<div>\n",
       "<style scoped>\n",
       "    .dataframe tbody tr th:only-of-type {\n",
       "        vertical-align: middle;\n",
       "    }\n",
       "\n",
       "    .dataframe tbody tr th {\n",
       "        vertical-align: top;\n",
       "    }\n",
       "\n",
       "    .dataframe thead th {\n",
       "        text-align: right;\n",
       "    }\n",
       "</style>\n",
       "<table border=\"1\" class=\"dataframe\">\n",
       "  <thead>\n",
       "    <tr style=\"text-align: right;\">\n",
       "      <th></th>\n",
       "      <th>data_venda</th>\n",
       "      <th>ano</th>\n",
       "    </tr>\n",
       "  </thead>\n",
       "  <tbody>\n",
       "    <tr>\n",
       "      <th>0</th>\n",
       "      <td>2012-10-04</td>\n",
       "      <td>2012</td>\n",
       "    </tr>\n",
       "    <tr>\n",
       "      <th>1</th>\n",
       "      <td>2012-01-01</td>\n",
       "      <td>2012</td>\n",
       "    </tr>\n",
       "    <tr>\n",
       "      <th>2</th>\n",
       "      <td>2012-02-02</td>\n",
       "      <td>2012</td>\n",
       "    </tr>\n",
       "    <tr>\n",
       "      <th>3</th>\n",
       "      <td>2012-03-03</td>\n",
       "      <td>2012</td>\n",
       "    </tr>\n",
       "    <tr>\n",
       "      <th>4</th>\n",
       "      <td>2012-04-04</td>\n",
       "      <td>2012</td>\n",
       "    </tr>\n",
       "  </tbody>\n",
       "</table>\n",
       "</div>"
      ],
      "text/plain": [
       "  data_venda   ano\n",
       "0 2012-10-04  2012\n",
       "1 2012-01-01  2012\n",
       "2 2012-02-02  2012\n",
       "3 2012-03-03  2012\n",
       "4 2012-04-04  2012"
      ]
     },
     "execution_count": 47,
     "metadata": {},
     "output_type": "execute_result"
    }
   ],
   "source": [
    "df_merge['data_venda'] = pd.to_datetime(df_merge['data_venda'], format='%d/%m/%Y')\n",
    "df_merge['ano'] = df_merge['data_venda'].dt.year\n",
    "df_merge[['data_venda', 'ano']].head()"
   ]
  },
  {
   "cell_type": "markdown",
   "id": "073a5d2e",
   "metadata": {},
   "source": [
    "🚨 **Desafio 7:** Calcule o total de vendas por ano."
   ]
  },
  {
   "cell_type": "code",
   "execution_count": 48,
   "id": "8be2e1a3",
   "metadata": {},
   "outputs": [
    {
     "data": {
      "text/html": [
       "<div>\n",
       "<style scoped>\n",
       "    .dataframe tbody tr th:only-of-type {\n",
       "        vertical-align: middle;\n",
       "    }\n",
       "\n",
       "    .dataframe tbody tr th {\n",
       "        vertical-align: top;\n",
       "    }\n",
       "\n",
       "    .dataframe thead th {\n",
       "        text-align: right;\n",
       "    }\n",
       "</style>\n",
       "<table border=\"1\" class=\"dataframe\">\n",
       "  <thead>\n",
       "    <tr style=\"text-align: right;\">\n",
       "      <th></th>\n",
       "      <th>ano</th>\n",
       "      <th>valor_venda</th>\n",
       "    </tr>\n",
       "  </thead>\n",
       "  <tbody>\n",
       "    <tr>\n",
       "      <th>0</th>\n",
       "      <td>2012</td>\n",
       "      <td>37503.74</td>\n",
       "    </tr>\n",
       "    <tr>\n",
       "      <th>1</th>\n",
       "      <td>2013</td>\n",
       "      <td>93418.56</td>\n",
       "    </tr>\n",
       "    <tr>\n",
       "      <th>2</th>\n",
       "      <td>2014</td>\n",
       "      <td>63322.02</td>\n",
       "    </tr>\n",
       "    <tr>\n",
       "      <th>3</th>\n",
       "      <td>2015</td>\n",
       "      <td>166836.79</td>\n",
       "    </tr>\n",
       "  </tbody>\n",
       "</table>\n",
       "</div>"
      ],
      "text/plain": [
       "    ano  valor_venda\n",
       "0  2012     37503.74\n",
       "1  2013     93418.56\n",
       "2  2014     63322.02\n",
       "3  2015    166836.79"
      ]
     },
     "execution_count": 48,
     "metadata": {},
     "output_type": "execute_result"
    }
   ],
   "source": [
    "df_merge.groupby('ano')['valor_venda'].sum().reset_index()"
   ]
  },
  {
   "cell_type": "markdown",
   "id": "f4e3d051",
   "metadata": {},
   "source": [
    "🚨 **Desafio 8:** Crie um gráfico de pizza com a distribuição percentual de vendas por categorias."
   ]
  },
  {
   "cell_type": "code",
   "execution_count": 49,
   "id": "6d60f5d2",
   "metadata": {},
   "outputs": [
    {
     "data": {
      "image/png": "[encoded data removed]",
      "text/plain": [
       "<Figure size 900x700 with 1 Axes>"
      ]
     },
     "metadata": {},
     "output_type": "display_data"
    }
   ],
   "source": [
    "# Agrupar os dados de vendas por categoria\n",
    "df_categoria_pizza = df_merge.groupby('categoria_produto')['valor_venda'].sum().sort_values(ascending=False)\n",
    "\n",
    "# Cores e explosão na maior fatia\n",
    "cores = ['#1f77b4', '#ff7f0e', '#2ca02c', '#d62728']\n",
    "explode = [0.05 if i == 0 else 0 for i in range(len(df_categoria_pizza))]\n",
    "\n",
    "# Plot do gráfico de pizza\n",
    "plt.figure(figsize=(9, 7))\n",
    "plt.pie(\n",
    "    df_categoria_pizza,\n",
    "    labels=df_categoria_pizza.index,\n",
    "    explode=explode,\n",
    "    autopct=lambda p: f'{p:.1f}%\\n(R$ {p * df_categoria_pizza.sum() / 100:,.0f})',\n",
    "    startangle=90,\n",
    "    colors=cores,\n",
    "    textprops={'fontsize': 11}\n",
    ")\n",
    "\n",
    "plt.title('Distribuição de Vendas por Categoria', fontsize=15)\n",
    "plt.axis('equal')\n",
    "plt.tight_layout()\n",
    "plt.show()\n"
   ]
  },
  {
   "cell_type": "markdown",
   "id": "088a7405",
   "metadata": {},
   "source": [
    "🚨 **Desafio 9:** Escreva abaixo ao menos 2 insights baseados nas análises anteriores.\n",
    "\n",
    "---Exemplo:\n",
    "- Qual categoria mais fatura?\n",
    "- Qual vendedor teve a maior comissão?\n",
    "- Houve crescimento ano a ano?"
   ]
  },
  {
   "cell_type": "code",
   "execution_count": null,
   "id": "ee4cbc40",
   "metadata": {},
   "outputs": [],
   "source": [
    "# Escreva seus insights aqui:\n",
    "# 1. De acordo com a análise, a categoria de produtos com maior valor de venda é a \"Eletrônicos\", seguida por \"Móveis\" e \"Roupas\".\n",
    "# 2. "
   ]
  },
  {
   "cell_type": "markdown",
   "id": "1bb7e47e",
   "metadata": {},
   "source": [
    "🚨 **Desafio 10:** Exporte os dados finais de categoria e comissão para arquivos CSV."
   ]
  },
  {
   "cell_type": "code",
   "execution_count": 50,
   "id": "a863f54c",
   "metadata": {},
   "outputs": [],
   "source": [
    "df_categoria.to_csv('relatorio_categoria.csv', index=False)\n",
    "df_vendedor.to_csv('relatorio_vendedores.csv', index=False)"
   ]
  },
  {
   "cell_type": "markdown",
   "id": "1aa2a1fd",
   "metadata": {},
   "source": [
    "---"
   ]
  },
  {
   "cell_type": "markdown",
   "id": "fb67a6c9",
   "metadata": {},
   "source": [
    "### 🛒 Desafio Extra — Projeto de Vendas com PostgreSQL usando psycopg2 e ipython-sql.\n",
    "\n",
    "Agora que você finalizou a análise dos dados de vendas, chegou o momento de estruturar tudo como um banco de dados relacional real!\n",
    "\n",
    "Neste desafio, você irá:\n",
    "\n",
    "✅ Conectar ao PostgreSQL  \n",
    "✅ Criar as tabelas via SQL  \n",
    "✅ Inserir os dados linha a linha a partir do DataFrame (o dataframe gerado da Venda o qual calculamos a venda com aumento) .\n",
    "✅ Realizar algumas consultas de negócio com SQL puro  \n",
    "\n",
    "---\n",
    "\n",
    "#### 🎯 Objetivo\n",
    "\n",
    "Transformar os dados do seu projeto de vendas em um banco PostgreSQL, criando uma tabela chamada `vendas_final`, contendo as informações abaixo:\n",
    "\n",
    "##### 🧱 Estrutura esperada da tabela `vendas_final`\n",
    "\n",
    "| Campo           | Tipo     | Descrição                            |\n",
    "|-----------------|----------|--------------------------------------|\n",
    "| cod_produto     | texto    | Código identificador do produto      |\n",
    "| nome_produto    | texto    | Nome do produto                      |\n",
    "| categoria       | texto    | Categoria do produto                 |\n",
    "| valor_venda     | numérico | Valor original da venda              |\n",
    "| venda_final     | numérico | Valor com aumento aplicado           |\n",
    "| nome_vendedor   | texto    | Nome do vendedor responsável         |\n",
    "| data_venda      | data     | Data em que ocorreu a venda          |\n",
    "\n",
    "---\n",
    "\n",
    "#### 🔌 Etapa 1 — Conectando ao banco PostgreSQL (Dica)\n",
    "\n",
    "```python\n",
    "import psycopg2\n",
    "\n",
    "try:\n",
    "    conn = psycopg2.connect(\n",
    "        host=\"localhost\",\n",
    "        database=\"aula01\",\n",
    "        user=\"postgres\",\n",
    "        password=\"1234\"\n",
    "    )\n",
    "    print(\"Conexão bem sucedida!\")\n",
    "except Exception as e:\n",
    "    print(\"Erro ao conectar ao banco de dados:\", e)\n",
    "\n",
    "# Criar o cursor\n",
    "crsr = conn.cursor()\n",
    "\n",
    "```\n",
    "#### 🔑 Etapa 2 — Crie as tabelas com SQL com Python;\n",
    "#### 🔎 Etapa 3 - Inserir os dados na tabela apartir do dataframe.\n",
    "#### 📥 Etapa 4 - Realizar algumas consultas de negócio com SQL puro.\n",
    "\n",
    "- Qual foi o total de vendas por categoria?\n",
    "- Quem foram os 3 vendedores que mais venderam?\n",
    "- Qual a média de valor final de venda?\n",
    "\n",
    "\n",
    "#### 📦 Entregáveis do Desafio:\n",
    "\n",
    "✅ Notebook .ipynb com:\n",
    "\n",
    "- Conexão via psycopg2;\n",
    "- Criação da tabela vendas_final;\n",
    "- Inserção linha a linha dos dados;\n",
    "- Banco PostgreSQL populado com os dados corretos;\n",
    "- Execução de 3 consultas SQL obrigatórias;\n",
    "\n",
    "✅ Entrega do Projeto:\n",
    "\n",
    "- Subir o projeto no GITHUB, documentado e me enviar o link do repositório por email.\n",
    "- Ou enviar o projeto por e-mail: nayara.valevskii@gmail.com\n",
    "\n",
    "#### DICA:\n",
    "\n",
    "Aproveite o projeto para o portfólio, documente e post no Linkedin.\n",
    "\n",
    "Boa sorte, galerinhaaa! 🔥\n",
    "\n"
   ]
  }
 ],
 "metadata": {
  "kernelspec": {
   "display_name": "digital",
   "language": "python",
   "name": "python3"
  },
  "language_info": {
   "codemirror_mode": {
    "name": "ipython",
    "version": 3
   },
   "file_extension": ".py",
   "mimetype": "text/x-python",
   "name": "python",
   "nbconvert_exporter": "python",
   "pygments_lexer": "ipython3",
   "version": "3.11.4"
  }
 },
 "nbformat": 4,
 "nbformat_minor": 5
}
